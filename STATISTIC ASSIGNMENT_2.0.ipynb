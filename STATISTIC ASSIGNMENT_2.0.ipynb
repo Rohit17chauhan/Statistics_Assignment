{
 "cells": [
  {
   "cell_type": "markdown",
   "id": "0e550ccb",
   "metadata": {},
   "source": [
    "Q1. What are the three measures of central tendency?"
   ]
  },
  {
   "cell_type": "code",
   "execution_count": 26,
   "id": "36963dd2",
   "metadata": {},
   "outputs": [
    {
     "data": {
      "text/plain": [
       "'mean,median,mode'"
      ]
     },
     "execution_count": 26,
     "metadata": {},
     "output_type": "execute_result"
    }
   ],
   "source": [
    "Ans1=\"mean,median,mode\"\n",
    "Ans1"
   ]
  },
  {
   "cell_type": "markdown",
   "id": "907a8f3b",
   "metadata": {},
   "source": [
    "Q2. What is the difference between the mean, median, and mode? How are they used to measure the\n",
    "central tendency of a dataset?"
   ]
  },
  {
   "cell_type": "code",
   "execution_count": 1,
   "id": "5089f350",
   "metadata": {},
   "outputs": [
    {
     "data": {
      "text/plain": [
       "'Difference\\n    1-Mean is used to find average of the value.\\n    2-Median is used to find the centarl value of a number and also used to find outlyer.\\n    3-Mode is used to find the frequency \\n    \\n    by using these 3  se can find central tendecy'"
      ]
     },
     "execution_count": 1,
     "metadata": {},
     "output_type": "execute_result"
    }
   ],
   "source": [
    "Ans2=\"\"\"Difference\n",
    "    1-Mean is used to find average of the value.\n",
    "    2-Median is used to find the centarl value of a number and also used to find outlyer.\n",
    "    3-Mode is used to find the frequency \n",
    "    \n",
    "    by using these 3  se can find central tendecy\"\"\"\n",
    "Ans2"
   ]
  },
  {
   "cell_type": "markdown",
   "id": "87803888",
   "metadata": {},
   "source": [
    "Q3. Measure the three measures of central tendency for the given height data:\n",
    "\n",
    " [178,177,176,177,178.2,178,175,179,180,175,178.9,176.2,177,172.5,178,176.5]"
   ]
  },
  {
   "cell_type": "code",
   "execution_count": 16,
   "id": "c108ca8c",
   "metadata": {},
   "outputs": [
    {
     "data": {
      "text/html": [
       "<div>\n",
       "<style scoped>\n",
       "    .dataframe tbody tr th:only-of-type {\n",
       "        vertical-align: middle;\n",
       "    }\n",
       "\n",
       "    .dataframe tbody tr th {\n",
       "        vertical-align: top;\n",
       "    }\n",
       "\n",
       "    .dataframe thead th {\n",
       "        text-align: right;\n",
       "    }\n",
       "</style>\n",
       "<table border=\"1\" class=\"dataframe\">\n",
       "  <thead>\n",
       "    <tr style=\"text-align: right;\">\n",
       "      <th></th>\n",
       "      <th>0</th>\n",
       "    </tr>\n",
       "  </thead>\n",
       "  <tbody>\n",
       "    <tr>\n",
       "      <th>0</th>\n",
       "      <td>178.0</td>\n",
       "    </tr>\n",
       "    <tr>\n",
       "      <th>1</th>\n",
       "      <td>177.0</td>\n",
       "    </tr>\n",
       "    <tr>\n",
       "      <th>2</th>\n",
       "      <td>176.0</td>\n",
       "    </tr>\n",
       "    <tr>\n",
       "      <th>3</th>\n",
       "      <td>177.0</td>\n",
       "    </tr>\n",
       "    <tr>\n",
       "      <th>4</th>\n",
       "      <td>178.2</td>\n",
       "    </tr>\n",
       "    <tr>\n",
       "      <th>5</th>\n",
       "      <td>178.0</td>\n",
       "    </tr>\n",
       "    <tr>\n",
       "      <th>6</th>\n",
       "      <td>175.0</td>\n",
       "    </tr>\n",
       "    <tr>\n",
       "      <th>7</th>\n",
       "      <td>179.0</td>\n",
       "    </tr>\n",
       "    <tr>\n",
       "      <th>8</th>\n",
       "      <td>180.0</td>\n",
       "    </tr>\n",
       "    <tr>\n",
       "      <th>9</th>\n",
       "      <td>175.0</td>\n",
       "    </tr>\n",
       "    <tr>\n",
       "      <th>10</th>\n",
       "      <td>178.9</td>\n",
       "    </tr>\n",
       "    <tr>\n",
       "      <th>11</th>\n",
       "      <td>176.2</td>\n",
       "    </tr>\n",
       "    <tr>\n",
       "      <th>12</th>\n",
       "      <td>177.0</td>\n",
       "    </tr>\n",
       "    <tr>\n",
       "      <th>13</th>\n",
       "      <td>172.5</td>\n",
       "    </tr>\n",
       "    <tr>\n",
       "      <th>14</th>\n",
       "      <td>178.0</td>\n",
       "    </tr>\n",
       "    <tr>\n",
       "      <th>15</th>\n",
       "      <td>176.5</td>\n",
       "    </tr>\n",
       "  </tbody>\n",
       "</table>\n",
       "</div>"
      ],
      "text/plain": [
       "        0\n",
       "0   178.0\n",
       "1   177.0\n",
       "2   176.0\n",
       "3   177.0\n",
       "4   178.2\n",
       "5   178.0\n",
       "6   175.0\n",
       "7   179.0\n",
       "8   180.0\n",
       "9   175.0\n",
       "10  178.9\n",
       "11  176.2\n",
       "12  177.0\n",
       "13  172.5\n",
       "14  178.0\n",
       "15  176.5"
      ]
     },
     "execution_count": 16,
     "metadata": {},
     "output_type": "execute_result"
    }
   ],
   "source": [
    "#  Ans3\n",
    "\n",
    "df=[178,177,176,177,178.2,178,175,179,180,175,178.9,176.2,177,172.5,178,176.5]\n",
    "import pandas as pd\n",
    "import numpy as np\n",
    "import matplotlib.pyplot as plt\n",
    "import seaborn as sns\n",
    "df=pd.DataFrame(df)\n",
    "df"
   ]
  },
  {
   "cell_type": "code",
   "execution_count": 17,
   "id": "4168fe7a",
   "metadata": {},
   "outputs": [
    {
     "data": {
      "text/plain": [
       "0    177.01875\n",
       "dtype: float64"
      ]
     },
     "execution_count": 17,
     "metadata": {},
     "output_type": "execute_result"
    }
   ],
   "source": [
    "df.mean()"
   ]
  },
  {
   "cell_type": "code",
   "execution_count": 18,
   "id": "e718fb08",
   "metadata": {},
   "outputs": [
    {
     "data": {
      "text/plain": [
       "0    177.0\n",
       "dtype: float64"
      ]
     },
     "execution_count": 18,
     "metadata": {},
     "output_type": "execute_result"
    }
   ],
   "source": [
    "df.median()"
   ]
  },
  {
   "cell_type": "code",
   "execution_count": 19,
   "id": "9a0d05e0",
   "metadata": {},
   "outputs": [],
   "source": [
    "from scipy import stats"
   ]
  },
  {
   "cell_type": "code",
   "execution_count": 20,
   "id": "ca65a6b5",
   "metadata": {},
   "outputs": [
    {
     "data": {
      "text/html": [
       "<div>\n",
       "<style scoped>\n",
       "    .dataframe tbody tr th:only-of-type {\n",
       "        vertical-align: middle;\n",
       "    }\n",
       "\n",
       "    .dataframe tbody tr th {\n",
       "        vertical-align: top;\n",
       "    }\n",
       "\n",
       "    .dataframe thead th {\n",
       "        text-align: right;\n",
       "    }\n",
       "</style>\n",
       "<table border=\"1\" class=\"dataframe\">\n",
       "  <thead>\n",
       "    <tr style=\"text-align: right;\">\n",
       "      <th></th>\n",
       "      <th>0</th>\n",
       "    </tr>\n",
       "  </thead>\n",
       "  <tbody>\n",
       "    <tr>\n",
       "      <th>0</th>\n",
       "      <td>177.0</td>\n",
       "    </tr>\n",
       "    <tr>\n",
       "      <th>1</th>\n",
       "      <td>178.0</td>\n",
       "    </tr>\n",
       "  </tbody>\n",
       "</table>\n",
       "</div>"
      ],
      "text/plain": [
       "       0\n",
       "0  177.0\n",
       "1  178.0"
      ]
     },
     "execution_count": 20,
     "metadata": {},
     "output_type": "execute_result"
    }
   ],
   "source": [
    "df.mode()"
   ]
  },
  {
   "cell_type": "markdown",
   "id": "175919a4",
   "metadata": {},
   "source": [
    "Q4. Find the standard deviation for the given data:\n",
    "\n",
    "[178,177,176,177,178.2,178,175,179,180,175,178.9,176.2,177,172.5,178,176.5]"
   ]
  },
  {
   "cell_type": "code",
   "execution_count": 21,
   "id": "eab6bb39",
   "metadata": {},
   "outputs": [
    {
     "data": {
      "text/html": [
       "<div>\n",
       "<style scoped>\n",
       "    .dataframe tbody tr th:only-of-type {\n",
       "        vertical-align: middle;\n",
       "    }\n",
       "\n",
       "    .dataframe tbody tr th {\n",
       "        vertical-align: top;\n",
       "    }\n",
       "\n",
       "    .dataframe thead th {\n",
       "        text-align: right;\n",
       "    }\n",
       "</style>\n",
       "<table border=\"1\" class=\"dataframe\">\n",
       "  <thead>\n",
       "    <tr style=\"text-align: right;\">\n",
       "      <th></th>\n",
       "      <th>0</th>\n",
       "    </tr>\n",
       "  </thead>\n",
       "  <tbody>\n",
       "    <tr>\n",
       "      <th>0</th>\n",
       "      <td>178.0</td>\n",
       "    </tr>\n",
       "    <tr>\n",
       "      <th>1</th>\n",
       "      <td>177.0</td>\n",
       "    </tr>\n",
       "    <tr>\n",
       "      <th>2</th>\n",
       "      <td>176.0</td>\n",
       "    </tr>\n",
       "    <tr>\n",
       "      <th>3</th>\n",
       "      <td>177.0</td>\n",
       "    </tr>\n",
       "    <tr>\n",
       "      <th>4</th>\n",
       "      <td>178.2</td>\n",
       "    </tr>\n",
       "    <tr>\n",
       "      <th>5</th>\n",
       "      <td>178.0</td>\n",
       "    </tr>\n",
       "    <tr>\n",
       "      <th>6</th>\n",
       "      <td>175.0</td>\n",
       "    </tr>\n",
       "    <tr>\n",
       "      <th>7</th>\n",
       "      <td>179.0</td>\n",
       "    </tr>\n",
       "    <tr>\n",
       "      <th>8</th>\n",
       "      <td>180.0</td>\n",
       "    </tr>\n",
       "    <tr>\n",
       "      <th>9</th>\n",
       "      <td>175.0</td>\n",
       "    </tr>\n",
       "    <tr>\n",
       "      <th>10</th>\n",
       "      <td>178.9</td>\n",
       "    </tr>\n",
       "    <tr>\n",
       "      <th>11</th>\n",
       "      <td>176.2</td>\n",
       "    </tr>\n",
       "    <tr>\n",
       "      <th>12</th>\n",
       "      <td>177.0</td>\n",
       "    </tr>\n",
       "    <tr>\n",
       "      <th>13</th>\n",
       "      <td>172.5</td>\n",
       "    </tr>\n",
       "    <tr>\n",
       "      <th>14</th>\n",
       "      <td>178.0</td>\n",
       "    </tr>\n",
       "    <tr>\n",
       "      <th>15</th>\n",
       "      <td>176.5</td>\n",
       "    </tr>\n",
       "  </tbody>\n",
       "</table>\n",
       "</div>"
      ],
      "text/plain": [
       "        0\n",
       "0   178.0\n",
       "1   177.0\n",
       "2   176.0\n",
       "3   177.0\n",
       "4   178.2\n",
       "5   178.0\n",
       "6   175.0\n",
       "7   179.0\n",
       "8   180.0\n",
       "9   175.0\n",
       "10  178.9\n",
       "11  176.2\n",
       "12  177.0\n",
       "13  172.5\n",
       "14  178.0\n",
       "15  176.5"
      ]
     },
     "execution_count": 21,
     "metadata": {},
     "output_type": "execute_result"
    }
   ],
   "source": [
    "#  Ans4-\n",
    "\n",
    "df1=[178,177,176,177,178.2,178,175,179,180,175,178.9,176.2,177,172.5,178,176.5]\n",
    "df1=pd.DataFrame(df1)\n",
    "df1\n"
   ]
  },
  {
   "cell_type": "code",
   "execution_count": 22,
   "id": "b6a1a1b1",
   "metadata": {},
   "outputs": [
    {
     "data": {
      "text/plain": [
       "0    1.847239\n",
       "dtype: float64"
      ]
     },
     "execution_count": 22,
     "metadata": {},
     "output_type": "execute_result"
    }
   ],
   "source": [
    "df1.std()"
   ]
  },
  {
   "cell_type": "markdown",
   "id": "251ed02a",
   "metadata": {},
   "source": [
    "Q5. How are measures of dispersion such as range, variance, and standard deviation used to describe\n",
    "the spread of a dataset? Provide an example."
   ]
  },
  {
   "cell_type": "code",
   "execution_count": 9,
   "id": "34851c5f",
   "metadata": {},
   "outputs": [
    {
     "data": {
      "text/plain": [
       "\"Measures of dispersion such as range, variance, and standard deviation are used to quantify the spread or variability of data points within a dataset. Here's how each of these measures works and an example illustrating their use:\\n\\nRange: The range is the simplest measure of dispersion and represents the difference between the largest and the smallest values in a dataset. It provides a rough estimate of the spread of the data.\\n\\nExample: Consider the following dataset representing the daily temperatures (in degrees Celsius) for a week: {20, 22, 19, 25, 18, 23, 21}. To calculate the range, we subtract the smallest value (18) from the largest value (25):\\n\\nRange = 25 - 18 = 7\\n\\nSo, the range of the temperatures for the week is 7 degrees Celsius.\\n\\nVariance: Variance measures the average squared deviation of each data point from the mean of the dataset. A higher variance indicates greater variability in the data.\\n\\nExample: Continuing with the temperature dataset, let's calculate the variance. First, we find the mean temperature:\\n\\nMean = (20 + 22 + 19 + 25 + 18 + 23 + 21) / 7 = 21\\n\\nThen, we calculate the squared differences of each temperature from the mean, sum them up, and divide by the number of data points:\\n\\nVariance = [(20-21)^2 + (22-21)^2 + (19-21)^2 + (25-21)^2 + (18-21)^2 + (23-21)^2 + (21-21)^2] / 7\\n= [(1)^2 + (1)^2 + (-2)^2 + (4)^2 + (-3)^2 + (2)^2 + (0)^2] / 7\\n= (1 + 1 + 4 + 16 + 9 + 4 + 0) / 7\\n= 35 / 7\\n= 5\\n\\nSo, the variance of the temperatures for the week is 5 square degrees Celsius.\\n\\nStandard Deviation: The standard deviation is the square root of the variance and provides a measure of the average distance of data points from the mean. It is widely used due to its intuitive interpretation and its unit being the same as the original data.\\n\\nExample: With the variance calculated as 5 square degrees Celsius, we can find the standard deviation by taking the square root of the variance:\\n\\nStandard Deviation = √5 ≈ 2.24\""
      ]
     },
     "execution_count": 9,
     "metadata": {},
     "output_type": "execute_result"
    }
   ],
   "source": [
    "Ans5=\"\"\"Measures of dispersion such as range, variance, and standard deviation are used to quantify the spread or variability of data points within a dataset. Here's how each of these measures works and an example illustrating their use:\n",
    "\n",
    "Range: The range is the simplest measure of dispersion and represents the difference between the largest and the smallest values in a dataset. It provides a rough estimate of the spread of the data.\n",
    "\n",
    "Example: Consider the following dataset representing the daily temperatures (in degrees Celsius) for a week: {20, 22, 19, 25, 18, 23, 21}. To calculate the range, we subtract the smallest value (18) from the largest value (25):\n",
    "\n",
    "Range = 25 - 18 = 7\n",
    "\n",
    "So, the range of the temperatures for the week is 7 degrees Celsius.\n",
    "\n",
    "Variance: Variance measures the average squared deviation of each data point from the mean of the dataset. A higher variance indicates greater variability in the data.\n",
    "\n",
    "Example: Continuing with the temperature dataset, let's calculate the variance. First, we find the mean temperature:\n",
    "\n",
    "Mean = (20 + 22 + 19 + 25 + 18 + 23 + 21) / 7 = 21\n",
    "\n",
    "Then, we calculate the squared differences of each temperature from the mean, sum them up, and divide by the number of data points:\n",
    "\n",
    "Variance = [(20-21)^2 + (22-21)^2 + (19-21)^2 + (25-21)^2 + (18-21)^2 + (23-21)^2 + (21-21)^2] / 7\n",
    "= [(1)^2 + (1)^2 + (-2)^2 + (4)^2 + (-3)^2 + (2)^2 + (0)^2] / 7\n",
    "= (1 + 1 + 4 + 16 + 9 + 4 + 0) / 7\n",
    "= 35 / 7\n",
    "= 5\n",
    "\n",
    "So, the variance of the temperatures for the week is 5 square degrees Celsius.\n",
    "\n",
    "Standard Deviation: The standard deviation is the square root of the variance and provides a measure of the average distance of data points from the mean. It is widely used due to its intuitive interpretation and its unit being the same as the original data.\n",
    "\n",
    "Example: With the variance calculated as 5 square degrees Celsius, we can find the standard deviation by taking the square root of the variance:\n",
    "\n",
    "Standard Deviation = √5 ≈ 2.24\"\"\"\n",
    "Ans5"
   ]
  },
  {
   "cell_type": "markdown",
   "id": "dd09fb14",
   "metadata": {},
   "source": [
    "Q6. What is a Venn diagram?"
   ]
  },
  {
   "cell_type": "code",
   "execution_count": 6,
   "id": "e0812334",
   "metadata": {},
   "outputs": [
    {
     "data": {
      "text/plain": [
       "'A Venn diagram is a graphical representation of the relationships between different sets of data.'"
      ]
     },
     "execution_count": 6,
     "metadata": {},
     "output_type": "execute_result"
    }
   ],
   "source": [
    "Ans6='A Venn diagram is a graphical representation of the relationships between different sets of data.'\n",
    "Ans6"
   ]
  },
  {
   "cell_type": "markdown",
   "id": "8f084098",
   "metadata": {},
   "source": [
    "Q7. For the two given sets A = (2,3,4,5,6,7) & B = (0,2,6,8,10). Find:\n",
    "\n",
    "(i) A∪B\n",
    "\n",
    "(ii)A ∩ B"
   ]
  },
  {
   "cell_type": "code",
   "execution_count": 2,
   "id": "13f57528",
   "metadata": {},
   "outputs": [
    {
     "data": {
      "text/plain": [
       "'\\n(i)- (0,2,3,4,5,6,7,8,10)\\n(ii)- (2,6)'"
      ]
     },
     "execution_count": 2,
     "metadata": {},
     "output_type": "execute_result"
    }
   ],
   "source": [
    "Ans7=\"\"\"\n",
    "(i)- (0,2,3,4,5,6,7,8,10)\n",
    "(ii)- (2,6)\"\"\"\n",
    "Ans7"
   ]
  },
  {
   "cell_type": "markdown",
   "id": "1efda8ac",
   "metadata": {},
   "source": [
    "Q8. What do you understand about skewness in data?"
   ]
  },
  {
   "cell_type": "code",
   "execution_count": 12,
   "id": "6c93ef23",
   "metadata": {},
   "outputs": [
    {
     "data": {
      "text/plain": [
       "'It describes the extent to which the values in a dataset deviate from a symmetrical distribution . In other word how much it spread.'"
      ]
     },
     "execution_count": 12,
     "metadata": {},
     "output_type": "execute_result"
    }
   ],
   "source": [
    "Ans8=\"It describes the extent to which the values in a dataset deviate from a symmetrical distribution . In other word how much it spread.\"\n",
    "Ans8"
   ]
  },
  {
   "cell_type": "markdown",
   "id": "ab20fcae",
   "metadata": {},
   "source": [
    "Q9. If a data is right skewed then what will be the position of median with respect to mean?"
   ]
  },
  {
   "cell_type": "code",
   "execution_count": 13,
   "id": "20b2f2bb",
   "metadata": {},
   "outputs": [
    {
     "data": {
      "text/plain": [
       "' Median is less than mean (mean>median)'"
      ]
     },
     "execution_count": 13,
     "metadata": {},
     "output_type": "execute_result"
    }
   ],
   "source": [
    "Ans9=\" Median is less than mean (mean>median)\"\n",
    "Ans9"
   ]
  },
  {
   "cell_type": "markdown",
   "id": "d1eb670b",
   "metadata": {},
   "source": [
    "Q10. Explain the difference between covariance and correlation. How are these measures used in\n",
    "statistical analysis?"
   ]
  },
  {
   "cell_type": "code",
   "execution_count": 17,
   "id": "63b8510a",
   "metadata": {},
   "outputs": [
    {
     "data": {
      "text/plain": [
       "'Covariance:Covariance measures the extent to which two variables change together.\\nIt indicates the direction of the linear relationship between variables (positive or negative) but does not provide information\\nabout the strength of the relationship.\\nCovariance can take on any value, positive, negative, or zero. A positive covariance indicates that the variables tend to move\\nin the same direction, while a negative covariance indicates that they move in opposite directions.\\n\\nCorrelation:\\n\\nCorrelation is a standardized measure of the linear relationship between two variables.\\nIt ranges from -1 to 1, where:\\nA correlation of 1 indicates a perfect positive linear relationship.\\nA correlation of -1 indicates a perfect negative linear relationship.\\nA correlation of 0 indicates no linear relationship between the variables.'"
      ]
     },
     "execution_count": 17,
     "metadata": {},
     "output_type": "execute_result"
    }
   ],
   "source": [
    "Ans10=\"\"\"Covariance:Covariance measures the extent to which two variables change together.\n",
    "It indicates the direction of the linear relationship between variables (positive or negative) but does not provide information\n",
    "about the strength of the relationship.\n",
    "Covariance can take on any value, positive, negative, or zero. A positive covariance indicates that the variables tend to move\n",
    "in the same direction, while a negative covariance indicates that they move in opposite directions.\n",
    "\n",
    "Correlation:\n",
    "\n",
    "Correlation is a standardized measure of the linear relationship between two variables.\n",
    "It ranges from -1 to 1, where:\n",
    "A correlation of 1 indicates a perfect positive linear relationship.\n",
    "A correlation of -1 indicates a perfect negative linear relationship.\n",
    "A correlation of 0 indicates no linear relationship between the variables.\"\"\"\n",
    "Ans10"
   ]
  },
  {
   "cell_type": "markdown",
   "id": "7a21ba0d",
   "metadata": {},
   "source": [
    "Q11. What is the formula for calculating the sample mean? Provide an example calculation for a\n",
    "dataset."
   ]
  },
  {
   "cell_type": "code",
   "execution_count": 19,
   "id": "bfb3f968",
   "metadata": {},
   "outputs": [
    {
     "data": {
      "text/plain": [
       "'sample mean(x̄)=sum of term/number of term\\ndata=1,2,3,4\\nsample mean(x̄)=sum of term/number of term\\n              =1+2+3+4/4\\n              =2.5 Ans'"
      ]
     },
     "execution_count": 19,
     "metadata": {},
     "output_type": "execute_result"
    }
   ],
   "source": [
    "Ans11=\"\"\"sample mean(x̄)=sum of term/number of term\n",
    "data=1,2,3,4\n",
    "sample mean(x̄)=sum of term/number of term\n",
    "              =1+2+3+4/4\n",
    "              =2.5 Ans\"\"\"\n",
    "Ans11"
   ]
  },
  {
   "cell_type": "markdown",
   "id": "3adc0be4",
   "metadata": {},
   "source": [
    "Q12. For a normal distribution data what is the relationship between its measure of central tendency?"
   ]
  },
  {
   "cell_type": "code",
   "execution_count": 21,
   "id": "da7da9bc",
   "metadata": {},
   "outputs": [
    {
     "data": {
      "text/plain": [
       "'symmetric'"
      ]
     },
     "execution_count": 21,
     "metadata": {},
     "output_type": "execute_result"
    }
   ],
   "source": [
    "Ans12=\"symmetric\"\n",
    "Ans12"
   ]
  },
  {
   "cell_type": "markdown",
   "id": "392ec218",
   "metadata": {},
   "source": [
    "Q13. How is covariance different from correlation?"
   ]
  },
  {
   "cell_type": "code",
   "execution_count": 23,
   "id": "771f775b",
   "metadata": {},
   "outputs": [
    {
     "data": {
      "text/plain": [
       "'Covariance:\\n\\nCovariance measures the extent to which two variables change together.\\nIt indicates the direction of the linear relationship between variables (positive or negative) but does not provide information\\nabout the strength of the relationship.\\nCovariance can take on any value, positive, negative, or zero. A positive covariance indicates that the variables tend to move\\nin the same direction, while a negative covariance indicates that they move in opposite directions.\\n\\nCorrelation:\\n\\nCorrelation is a standardized measure of the linear relationship between two variables.\\nIt ranges from -1 to 1, where:\\nA correlation of 1 indicates a perfect positive linear relationship.\\nA correlation of -1 indicates a perfect negative linear relationship.\\nA correlation of 0 indicates no linear relationship between the variables.'"
      ]
     },
     "execution_count": 23,
     "metadata": {},
     "output_type": "execute_result"
    }
   ],
   "source": [
    "Ans13=\"\"\"Covariance:\n",
    "\n",
    "Covariance measures the extent to which two variables change together.\n",
    "It indicates the direction of the linear relationship between variables (positive or negative) but does not provide information\n",
    "about the strength of the relationship.\n",
    "Covariance can take on any value, positive, negative, or zero. A positive covariance indicates that the variables tend to move\n",
    "in the same direction, while a negative covariance indicates that they move in opposite directions.\n",
    "\n",
    "Correlation:\n",
    "\n",
    "Correlation is a standardized measure of the linear relationship between two variables.\n",
    "It ranges from -1 to 1, where:\n",
    "A correlation of 1 indicates a perfect positive linear relationship.\n",
    "A correlation of -1 indicates a perfect negative linear relationship.\n",
    "A correlation of 0 indicates no linear relationship between the variables.\"\"\"\n",
    "Ans13"
   ]
  },
  {
   "cell_type": "markdown",
   "id": "1c24bef2",
   "metadata": {},
   "source": [
    "Q14. How do outliers affect measures of central tendency and dispersion? Provide an example."
   ]
  },
  {
   "cell_type": "code",
   "execution_count": 25,
   "id": "2d11ad09",
   "metadata": {},
   "outputs": [
    {
     "data": {
      "text/plain": [
       "'When a outlier is present it can effect the shape of the graph, if we have outliers to the right of the graph. \\nThese outliers are causing the mean to increase, but if we have outliers to the left of the graph these outliers are dragging \\ndown the mean. This causes a conflict because the mean no longer provides a good representation of the data, alternatively we\\nwould much rather use the median. The median on the other hand is less likely to be affect by outliers.\\nDispersion means spreadness , dispersion will increase if the outlier is present.\\nExample-'"
      ]
     },
     "execution_count": 25,
     "metadata": {},
     "output_type": "execute_result"
    }
   ],
   "source": [
    "\n",
    "Ans14=\"\"\"When a outlier is present it can effect the shape of the graph, if we have outliers to the right of the graph. \n",
    "These outliers are causing the mean to increase, but if we have outliers to the left of the graph these outliers are dragging \n",
    "down the mean. This causes a conflict because the mean no longer provides a good representation of the data, alternatively we\n",
    "would much rather use the median. The median on the other hand is less likely to be affect by outliers.\n",
    "Dispersion means spreadness , dispersion will increase if the outlier is present.\n",
    "Example-\"\"\"\n",
    "Ans14"
   ]
  },
  {
   "cell_type": "code",
   "execution_count": 44,
   "id": "a81702ad",
   "metadata": {},
   "outputs": [
    {
     "data": {
      "text/html": [
       "<div>\n",
       "<style scoped>\n",
       "    .dataframe tbody tr th:only-of-type {\n",
       "        vertical-align: middle;\n",
       "    }\n",
       "\n",
       "    .dataframe tbody tr th {\n",
       "        vertical-align: top;\n",
       "    }\n",
       "\n",
       "    .dataframe thead th {\n",
       "        text-align: right;\n",
       "    }\n",
       "</style>\n",
       "<table border=\"1\" class=\"dataframe\">\n",
       "  <thead>\n",
       "    <tr style=\"text-align: right;\">\n",
       "      <th></th>\n",
       "      <th>0</th>\n",
       "    </tr>\n",
       "  </thead>\n",
       "  <tbody>\n",
       "    <tr>\n",
       "      <th>0</th>\n",
       "      <td>1</td>\n",
       "    </tr>\n",
       "    <tr>\n",
       "      <th>1</th>\n",
       "      <td>2</td>\n",
       "    </tr>\n",
       "    <tr>\n",
       "      <th>2</th>\n",
       "      <td>3</td>\n",
       "    </tr>\n",
       "    <tr>\n",
       "      <th>3</th>\n",
       "      <td>4</td>\n",
       "    </tr>\n",
       "    <tr>\n",
       "      <th>4</th>\n",
       "      <td>5</td>\n",
       "    </tr>\n",
       "  </tbody>\n",
       "</table>\n",
       "</div>"
      ],
      "text/plain": [
       "   0\n",
       "0  1\n",
       "1  2\n",
       "2  3\n",
       "3  4\n",
       "4  5"
      ]
     },
     "execution_count": 44,
     "metadata": {},
     "output_type": "execute_result"
    }
   ],
   "source": [
    "n=[1,2,3,4,5]# we are not taking an outlier ,now we are going to find mean median and mode\n",
    "n=pd.DataFrame(n)\n",
    "n"
   ]
  },
  {
   "cell_type": "code",
   "execution_count": 45,
   "id": "bea11a8c",
   "metadata": {},
   "outputs": [
    {
     "data": {
      "text/plain": [
       "0    3.0\n",
       "dtype: float64"
      ]
     },
     "execution_count": 45,
     "metadata": {},
     "output_type": "execute_result"
    }
   ],
   "source": [
    "#mean\n",
    "n.mean()"
   ]
  },
  {
   "cell_type": "code",
   "execution_count": 46,
   "id": "2c237e21",
   "metadata": {},
   "outputs": [
    {
     "data": {
      "text/plain": [
       "0    3.0\n",
       "dtype: float64"
      ]
     },
     "execution_count": 46,
     "metadata": {},
     "output_type": "execute_result"
    }
   ],
   "source": [
    "#median\n",
    "n.median()"
   ]
  },
  {
   "cell_type": "code",
   "execution_count": 47,
   "id": "7714e53c",
   "metadata": {},
   "outputs": [
    {
     "data": {
      "text/html": [
       "<div>\n",
       "<style scoped>\n",
       "    .dataframe tbody tr th:only-of-type {\n",
       "        vertical-align: middle;\n",
       "    }\n",
       "\n",
       "    .dataframe tbody tr th {\n",
       "        vertical-align: top;\n",
       "    }\n",
       "\n",
       "    .dataframe thead th {\n",
       "        text-align: right;\n",
       "    }\n",
       "</style>\n",
       "<table border=\"1\" class=\"dataframe\">\n",
       "  <thead>\n",
       "    <tr style=\"text-align: right;\">\n",
       "      <th></th>\n",
       "      <th>0</th>\n",
       "    </tr>\n",
       "  </thead>\n",
       "  <tbody>\n",
       "    <tr>\n",
       "      <th>0</th>\n",
       "      <td>1</td>\n",
       "    </tr>\n",
       "    <tr>\n",
       "      <th>1</th>\n",
       "      <td>2</td>\n",
       "    </tr>\n",
       "    <tr>\n",
       "      <th>2</th>\n",
       "      <td>3</td>\n",
       "    </tr>\n",
       "    <tr>\n",
       "      <th>3</th>\n",
       "      <td>4</td>\n",
       "    </tr>\n",
       "    <tr>\n",
       "      <th>4</th>\n",
       "      <td>5</td>\n",
       "    </tr>\n",
       "  </tbody>\n",
       "</table>\n",
       "</div>"
      ],
      "text/plain": [
       "   0\n",
       "0  1\n",
       "1  2\n",
       "2  3\n",
       "3  4\n",
       "4  5"
      ]
     },
     "execution_count": 47,
     "metadata": {},
     "output_type": "execute_result"
    }
   ],
   "source": [
    "#mode\n",
    "from scipy import stats\n",
    "n.mode()"
   ]
  },
  {
   "cell_type": "code",
   "execution_count": 48,
   "id": "a8bbdfaa",
   "metadata": {},
   "outputs": [
    {
     "data": {
      "text/plain": [
       "<AxesSubplot:ylabel='Count'>"
      ]
     },
     "execution_count": 48,
     "metadata": {},
     "output_type": "execute_result"
    },
    {
     "data": {
      "image/png": "[encoded data removed]",
      "text/plain": [
       "<Figure size 432x288 with 1 Axes>"
      ]
     },
     "metadata": {
      "needs_background": "light"
     },
     "output_type": "display_data"
    }
   ],
   "source": [
    "sns.histplot(n,kde=True)# here the dispersion in the ci=urve form"
   ]
  },
  {
   "cell_type": "code",
   "execution_count": 27,
   "id": "195633b0",
   "metadata": {},
   "outputs": [
    {
     "data": {
      "text/plain": [
       "{'whiskers': [<matplotlib.lines.Line2D at 0x27fc26865b0>,\n",
       "  <matplotlib.lines.Line2D at 0x27fc2686940>],\n",
       " 'caps': [<matplotlib.lines.Line2D at 0x27fc2686cd0>,\n",
       "  <matplotlib.lines.Line2D at 0x27fc2686fa0>],\n",
       " 'boxes': [<matplotlib.lines.Line2D at 0x27fc2686160>],\n",
       " 'medians': [<matplotlib.lines.Line2D at 0x27fc2688400>],\n",
       " 'fliers': [<matplotlib.lines.Line2D at 0x27fc2688790>],\n",
       " 'means': []}"
      ]
     },
     "execution_count": 27,
     "metadata": {},
     "output_type": "execute_result"
    },
    {
     "data": {
      "image/png": "[encoded data removed]",
      "text/plain": [
       "<Figure size 432x288 with 1 Axes>"
      ]
     },
     "metadata": {
      "needs_background": "light"
     },
     "output_type": "display_data"
    }
   ],
   "source": [
    "plt.boxplot(n)\n",
    "# here the Q1,Q2,Q3 perfectaly at the center which show the no outlier are present"
   ]
  },
  {
   "cell_type": "code",
   "execution_count": 33,
   "id": "74ea38f9",
   "metadata": {},
   "outputs": [
    {
     "data": {
      "text/html": [
       "<div>\n",
       "<style scoped>\n",
       "    .dataframe tbody tr th:only-of-type {\n",
       "        vertical-align: middle;\n",
       "    }\n",
       "\n",
       "    .dataframe tbody tr th {\n",
       "        vertical-align: top;\n",
       "    }\n",
       "\n",
       "    .dataframe thead th {\n",
       "        text-align: right;\n",
       "    }\n",
       "</style>\n",
       "<table border=\"1\" class=\"dataframe\">\n",
       "  <thead>\n",
       "    <tr style=\"text-align: right;\">\n",
       "      <th></th>\n",
       "      <th>0</th>\n",
       "    </tr>\n",
       "  </thead>\n",
       "  <tbody>\n",
       "    <tr>\n",
       "      <th>0</th>\n",
       "      <td>1</td>\n",
       "    </tr>\n",
       "    <tr>\n",
       "      <th>1</th>\n",
       "      <td>2</td>\n",
       "    </tr>\n",
       "    <tr>\n",
       "      <th>2</th>\n",
       "      <td>3</td>\n",
       "    </tr>\n",
       "    <tr>\n",
       "      <th>3</th>\n",
       "      <td>4</td>\n",
       "    </tr>\n",
       "    <tr>\n",
       "      <th>4</th>\n",
       "      <td>5</td>\n",
       "    </tr>\n",
       "    <tr>\n",
       "      <th>5</th>\n",
       "      <td>100</td>\n",
       "    </tr>\n",
       "  </tbody>\n",
       "</table>\n",
       "</div>"
      ],
      "text/plain": [
       "     0\n",
       "0    1\n",
       "1    2\n",
       "2    3\n",
       "3    4\n",
       "4    5\n",
       "5  100"
      ]
     },
     "execution_count": 33,
     "metadata": {},
     "output_type": "execute_result"
    }
   ],
   "source": [
    "# now we taking an outlyer as a 100\n",
    "m=[1,2,3,4,5,100]\n",
    "m=pd.DataFrame(m)\n",
    "m"
   ]
  },
  {
   "cell_type": "code",
   "execution_count": 34,
   "id": "e1f998f4",
   "metadata": {},
   "outputs": [
    {
     "data": {
      "text/plain": [
       "0    19.166667\n",
       "dtype: float64"
      ]
     },
     "execution_count": 34,
     "metadata": {},
     "output_type": "execute_result"
    }
   ],
   "source": [
    "#mean\n",
    "m.mean()\n",
    "# here our mean are increase now 3 to 19.16 which so the outlier are present "
   ]
  },
  {
   "cell_type": "code",
   "execution_count": 49,
   "id": "24cc0cd0",
   "metadata": {},
   "outputs": [
    {
     "data": {
      "text/plain": [
       "<AxesSubplot:ylabel='Count'>"
      ]
     },
     "execution_count": 49,
     "metadata": {},
     "output_type": "execute_result"
    },
    {
     "data": {
      "image/png": "[encoded data removed]",
      "text/plain": [
       "<Figure size 432x288 with 1 Axes>"
      ]
     },
     "metadata": {
      "needs_background": "light"
     },
     "output_type": "display_data"
    }
   ],
   "source": [
    "sns.histplot(m,kde=True) # here the dispersion  are approxmately linear"
   ]
  },
  {
   "cell_type": "code",
   "execution_count": 35,
   "id": "1dbe7948",
   "metadata": {},
   "outputs": [
    {
     "data": {
      "text/plain": [
       "{'whiskers': [<matplotlib.lines.Line2D at 0x27fc2975cd0>,\n",
       "  <matplotlib.lines.Line2D at 0x27fc2975fa0>],\n",
       " 'caps': [<matplotlib.lines.Line2D at 0x27fc29952b0>,\n",
       "  <matplotlib.lines.Line2D at 0x27fc2995580>],\n",
       " 'boxes': [<matplotlib.lines.Line2D at 0x27fc2975a00>],\n",
       " 'medians': [<matplotlib.lines.Line2D at 0x27fc2995850>],\n",
       " 'fliers': [<matplotlib.lines.Line2D at 0x27fc2995b20>],\n",
       " 'means': []}"
      ]
     },
     "execution_count": 35,
     "metadata": {},
     "output_type": "execute_result"
    },
    {
     "data": {
      "image/png": "[encoded data removed]",
      "text/plain": [
       "<Figure size 432x288 with 1 Axes>"
      ]
     },
     "metadata": {
      "needs_background": "light"
     },
     "output_type": "display_data"
    }
   ],
   "source": [
    "plt.boxplot(m)\n",
    "# Here the Q2 are near to Q3 which show the outlier are present"
   ]
  },
  {
   "cell_type": "code",
   "execution_count": null,
   "id": "61ef8990",
   "metadata": {},
   "outputs": [],
   "source": [
    "# conclusion is that if the outlier are present then it affect the measeure of central tendancy and also dispersion"
   ]
  },
  {
   "cell_type": "code",
   "execution_count": null,
   "id": "c9e1a842",
   "metadata": {},
   "outputs": [],
   "source": []
  }
 ],
 "metadata": {
  "kernelspec": {
   "display_name": "Python 3 (ipykernel)",
   "language": "python",
   "name": "python3"
  },
  "language_info": {
   "codemirror_mode": {
    "name": "ipython",
    "version": 3
   },
   "file_extension": ".py",
   "mimetype": "text/x-python",
   "name": "python",
   "nbconvert_exporter": "python",
   "pygments_lexer": "ipython3",
   "version": "3.9.12"
  }
 },
 "nbformat": 4,
 "nbformat_minor": 5
}
